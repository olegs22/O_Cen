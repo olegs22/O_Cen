{
 "cells": [
  {
   "cell_type": "markdown",
   "metadata": {},
   "source": [
    "# Omega Centauri Gamma Ray spectrum with DM annihilation "
   ]
  },
  {
   "cell_type": "code",
   "execution_count": 1,
   "metadata": {},
   "outputs": [],
   "source": [
    "%matplotlib inline\n",
    "import numpy as np\n",
    "import matplotlib.pyplot as pl\n",
    "import scipy.optimize as op\n",
    "from astropy.io import ascii\n",
    "from scipy.integrate import quad\n",
    "from scipy import interpolate\n",
    "\n",
    "\n",
    "###Read data\n",
    "data_all=ascii.read('GammaPythia.dat')"
   ]
  },
  {
   "cell_type": "code",
   "execution_count": 2,
   "metadata": {},
   "outputs": [],
   "source": [
    "###Define a Chisqare function\n",
    "\n",
    "def ChiSq(func,arg,x,y,yerr):\n",
    "    model=func(x,arg)\n",
    "    inv_sigma2 = 1.0/np.power(yerr,2.)\n",
    "    chisq=0.5*(np.sum((np.power(y-model,2.)*inv_sigma2))) \n",
    "    return chisq"
   ]
  },
  {
   "cell_type": "code",
   "execution_count": 289,
   "metadata": {},
   "outputs": [],
   "source": [
    "###DEfine the interpolating function of the spectra given by the Pythia Tables, given a mass I have to select from pythia Data the correct \n",
    "#energy spectrum\n",
    "#\n",
    "#The columns are  [ mDM, Log10x , dN/d Log10x for 28 primary channels]\n",
    "#(DM DM --> eL+eL-, eR+eR-, e+e-, μL+μL-, μR+μR-, μ+μ -, τL+τL-, τR+τR-,τ+τ -, qq, cc, bb, tt, WL+WL-, WT+WT-,W+W-, ZL+ZL-, ZT+ZT-, Z+Z-, gg, γγ, hh, νeνe, νμνμ, ντντ, VV → 4e, VV → 4μ, VV →\t4τ.)].\n",
    "\n",
    "#data_arrays=np.vsplit(data_all,180)\n",
    "#print data_arrays\n",
    "def pick_mass(mass,state):\n",
    "    x=(10**data_all[(data_all['col1']==mass)]['col2'])*mass\n",
    "    y=(data_all[(data_all['col1']==mass)][state])\n",
    "    return x,y\n",
    "\n",
    "def interp(mass,col_secpart):\n",
    "    masslist=[5,6,8,10,15,20,25,30,40,50,60,70,80,90,100,110,120,130,140,150]\n",
    "    if (mass<5 or mass>150):\n",
    "        return 0.\n",
    "    if mass in masslist:\n",
    "        index=masslist.index(mass)\n",
    "        x=(10**data_all[(data_all['col1']==mass)]['col2'])*mass\n",
    "        y=(data_all[(data_all['col1']==mass)][col_secpart])\n",
    "        return x,y\n",
    "    else:\n",
    "        index=np.searchsorted(masslist,mass)\n",
    "        mass1=masslist[index]\n",
    "        mass2=masslist[index+1]\n",
    "        print mass1,mass,mass2\n",
    "        \n",
    "        x1=(10**data_all[(data_all['col1']==mass1)]['col2'])*mass1\n",
    "        x2=(10**data_all[(data_all['col1']==mass2)]['col2'])*mass2\n",
    "        y1=(data_all[(data_all['col1']==mass1)][col_secpart])\n",
    "        y2=(data_all[(data_all['col1']==mass2)][col_secpart])\n",
    " \n",
    "        x=np.append(x2,x1)\n",
    "        y=np.append(y2,y1)\n",
    "        idx=np.argsort(x)\n",
    "        x=x[idx]\n",
    "        y=y[idx]\n",
    "    #tck = interpolate.splrep(x, y,s=0)\n",
    "        tck = interpolate.interp1d(x, y)\n",
    "        xnew=(10**data_all[(data_all['col1']==mass1)]['col2'])*mass\n",
    "        xnew[xnew<min(x)]=min(x)\n",
    "        #print min(x),min(xnew)\n",
    "    #ynew=interpolate.splev(xnew,tck)\n",
    "        #ynew=tck(xnew)\n",
    "        #ynew[np.isnan(ynew)]=0.\n",
    "        #ynew[ynew<1e-7]=0.\n",
    "        return tck#xnew,ynew\n",
    "\n"
   ]
  },
  {
   "cell_type": "code",
   "execution_count": 281,
   "metadata": {},
   "outputs": [
    {
     "name": "stdout",
     "output_type": "stream",
     "text": [
      "50 45 60\n",
      "6.29462705897e-08 6.29462705897e-08\n"
     ]
    },
    {
     "data": {
      "image/png": "[encoded data removed]",
      "text/plain": [
       "<matplotlib.figure.Figure at 0x1139dd850>"
      ]
     },
     "metadata": {},
     "output_type": "display_data"
    }
   ],
   "source": [
    "testx,testy=interp(45,'col14')\n",
    "datax,datay=pick_mass(40,'col14')\n",
    "data2x,data2y=pick_mass(50,'col14')\n",
    "pl.plot(datax,datay,'k')\n",
    "pl.plot(testx,abs(testy),'--r')\n",
    "pl.plot(data2x,data2y,'b')\n",
    "pl.xscale('log')\n",
    "pl.yscale('log')\n",
    "#pl.xlim(2e2,2e4)\n",
    "pl.xlabel('$x$')\n",
    "pl.ylabel(r'$x\\frac{dN}{d\\log[x]}$')\n",
    "#pl.ylim(1e-7,100)\n",
    "#testy\n",
    "pl.show()"
   ]
  },
  {
   "cell_type": "code",
   "execution_count": 220,
   "metadata": {},
   "outputs": [
    {
     "data": {
      "text/plain": [
       "<matplotlib.text.Text at 0x10db12390>"
      ]
     },
     "execution_count": 220,
     "metadata": {},
     "output_type": "execute_result"
    },
    {
     "data": {
      "image/png": "[encoded data removed]",
      "text/plain": [
       "<matplotlib.figure.Figure at 0x10dbff4d0>"
      ]
     },
     "metadata": {},
     "output_type": "display_data"
    }
   ],
   "source": [
    "mdm=100e3\n",
    "data=ascii.read('Ocent_gamma.dat')\n",
    "x=data['col1']\n",
    "y=data['col2']\n",
    "dy_up=data['col3']-data['col2']\n",
    "dy_low=data['col2']-data['col4']\n",
    "yerr=dy_up+dy_low\n",
    "dx_low=data['col1']-data['col6']\n",
    "dx_up=data['col5']-data['col1']\n",
    "fig1=pl.figure()\n",
    "ax1 = fig1.add_subplot(111)\n",
    "ax1.errorbar(x,y,xerr=[dx_low,dx_up],yerr=[dy_low,dy_up],fmt='.r')\n",
    "ax1.set_xscale('log')\n",
    "ax1.set_yscale('log')\n",
    "#ax1.set_ylim([1e-13,5e-11])\n",
    "#ax1.set_xlim([100,20000])\n",
    "ax1.set_xlabel('x')\n",
    "ax1.set_ylabel(r'$x \\frac{dN}{dlog x}$')"
   ]
  },
  {
   "cell_type": "code",
   "execution_count": 6,
   "metadata": {},
   "outputs": [
    {
     "name": "stdout",
     "output_type": "stream",
     "text": [
      "0.209685823996\n"
     ]
    },
    {
     "data": {
      "image/png": "[encoded data removed]",
      "text/plain": [
       "<matplotlib.figure.Figure at 0x10d640bd0>"
      ]
     },
     "execution_count": 6,
     "metadata": {},
     "output_type": "execute_result"
    }
   ],
   "source": [
    "En=np.linspace(100,50000,100)\n",
    "def E2dNdEpulsar(x,N0):\n",
    "    ###Here I have to find out where the normalization comes from, for now I'm \n",
    "    ##using this value that seems to reproduce the FERMI paper.  This normalization is set by the best fit value. \n",
    "    return N0*(x/100.)**2.*(x/100.)**(-0.7)*np.exp(-(x/1.2e3))\n",
    "\n",
    "ax1.plot(En,E2dNdEpulsar(En,4.54804687e-13),'black',label='Pulsars')\n",
    "ax1.legend(loc='upper right',frameon=False)\n",
    "\n",
    "print(ChiSq(E2dNdEpulsar,4.54804687e-13,x,y,yerr))\n",
    "fig1"
   ]
  },
  {
   "cell_type": "markdown",
   "metadata": {},
   "source": [
    "Here we will adjust the spectrum but a flux from dark matter annihilation..."
   ]
  },
  {
   "cell_type": "code",
   "execution_count": 290,
   "metadata": {},
   "outputs": [],
   "source": [
    "##Define the branching ratio for the different final states. \n",
    "#For bb#\n",
    "#a=1.\n",
    "#b=10.7\n",
    "##For tau tau\n",
    "#a=1.1\n",
    "#b=15.1\n",
    "###For uu\n",
    "#a=0.95\n",
    "#b=6.5\n",
    "###For W+W- oZZ-#\n",
    "#a=0.73\n",
    "#b=7.76\n",
    "def dNdE(x,mdm,a,b):\n",
    "    return a*(mdm**0.5/x**1.5)*np.exp(-b*x/mdm)\n",
    "\n",
    "####Predicted Spectrum for a fixed value of the mass and the cross section, using the J-factor calculated before, in this case the J-factor\n",
    "##does not depend on the cross-section### \n",
    "N0_start=1e-13\n",
    "mdm_start=12000. ###MeV\n",
    "sigmav_start=1.e-30\n",
    "def Ebb(x,arg):\n",
    "    mdm,sigv,jfac=arg\n",
    "    return (x**2.)*dNdE(x,mdm,1.1,15.1)*(sigv/mdm**2.)*jfac\n",
    "\n",
    "def En_pyth(x,arg):\n",
    "    mdm,sigv,jfac,state=arg\n",
    "    y=interp(mdm,state)\n",
    "    yret=y(x)\n",
    "    return x*yret*(sigv/mdm**2.)*jfac"
   ]
  },
  {
   "cell_type": "markdown",
   "metadata": {},
   "source": [
    "Here we will find the best fit of $m_{dm}$ and $\\sigma v$ that fits the spectrum given above. Another option will be to adopt the optimized spectrum from pulsars and then find the values of mass and cross section that improves the fit. Finally a third approach is that the spectrum is completly described by  the pulsars, and then we use this flux as a limit for the cross section. "
   ]
  },
  {
   "cell_type": "code",
   "execution_count": 295,
   "metadata": {},
   "outputs": [
    {
     "ename": "IndexError",
     "evalue": "list index out of range",
     "output_type": "error",
     "traceback": [
      "\u001b[0;31m---------------------------------------------------------------------------\u001b[0m\n\u001b[0;31mIndexError\u001b[0m                                Traceback (most recent call last)",
      "\u001b[0;32m<ipython-input-295-058474012ba0>\u001b[0m in \u001b[0;36m<module>\u001b[0;34m()\u001b[0m\n\u001b[1;32m     23\u001b[0m \u001b[0;34m\u001b[0m\u001b[0m\n\u001b[1;32m     24\u001b[0m \u001b[0mchi2\u001b[0m \u001b[0;34m=\u001b[0m \u001b[0;32mlambda\u001b[0m \u001b[0;34m*\u001b[0m\u001b[0margs\u001b[0m\u001b[0;34m:\u001b[0m \u001b[0;34m-\u001b[0m\u001b[0;36m2\u001b[0m \u001b[0;34m*\u001b[0m \u001b[0mlnlike\u001b[0m\u001b[0;34m(\u001b[0m\u001b[0;34m*\u001b[0m\u001b[0margs\u001b[0m\u001b[0;34m)\u001b[0m\u001b[0;34m\u001b[0m\u001b[0m\n\u001b[0;32m---> 25\u001b[0;31m \u001b[0mresult\u001b[0m \u001b[0;34m=\u001b[0m \u001b[0mop\u001b[0m\u001b[0;34m.\u001b[0m\u001b[0mminimize\u001b[0m\u001b[0;34m(\u001b[0m\u001b[0mchi2\u001b[0m\u001b[0;34m,\u001b[0m \u001b[0;34m[\u001b[0m\u001b[0mmdm_start\u001b[0m\u001b[0;34m,\u001b[0m\u001b[0msigmav_start\u001b[0m\u001b[0;34m]\u001b[0m\u001b[0;34m,\u001b[0m \u001b[0margs\u001b[0m\u001b[0;34m=\u001b[0m\u001b[0;34m(\u001b[0m\u001b[0mx\u001b[0m\u001b[0;34m,\u001b[0m \u001b[0my\u001b[0m\u001b[0;34m,\u001b[0m \u001b[0myerr\u001b[0m\u001b[0;34m,\u001b[0m\u001b[0;34m'col14'\u001b[0m\u001b[0;34m)\u001b[0m\u001b[0;34m,\u001b[0m\u001b[0mmethod\u001b[0m\u001b[0;34m=\u001b[0m\u001b[0;34m'Nelder-Mead'\u001b[0m\u001b[0;34m)\u001b[0m\u001b[0;34m\u001b[0m\u001b[0m\n\u001b[0m\u001b[1;32m     26\u001b[0m \u001b[0mresult\u001b[0m\u001b[0;34m[\u001b[0m\u001b[0;34m'x'\u001b[0m\u001b[0;34m]\u001b[0m\u001b[0;34m\u001b[0m\u001b[0m\n",
      "\u001b[0;32m/opt/local/Library/Frameworks/Python.framework/Versions/2.7/lib/python2.7/site-packages/scipy/optimize/_minimize.pyc\u001b[0m in \u001b[0;36mminimize\u001b[0;34m(fun, x0, args, method, jac, hess, hessp, bounds, constraints, tol, callback, options)\u001b[0m\n\u001b[1;32m    411\u001b[0m                       callback=callback, **options)\n\u001b[1;32m    412\u001b[0m     \u001b[0;32melif\u001b[0m \u001b[0mmeth\u001b[0m \u001b[0;34m==\u001b[0m \u001b[0;34m'nelder-mead'\u001b[0m\u001b[0;34m:\u001b[0m\u001b[0;34m\u001b[0m\u001b[0m\n\u001b[0;32m--> 413\u001b[0;31m         \u001b[0;32mreturn\u001b[0m \u001b[0m_minimize_neldermead\u001b[0m\u001b[0;34m(\u001b[0m\u001b[0mfun\u001b[0m\u001b[0;34m,\u001b[0m \u001b[0mx0\u001b[0m\u001b[0;34m,\u001b[0m \u001b[0margs\u001b[0m\u001b[0;34m,\u001b[0m \u001b[0mcallback\u001b[0m\u001b[0;34m,\u001b[0m \u001b[0;34m**\u001b[0m\u001b[0moptions\u001b[0m\u001b[0;34m)\u001b[0m\u001b[0;34m\u001b[0m\u001b[0m\n\u001b[0m\u001b[1;32m    414\u001b[0m     \u001b[0;32melif\u001b[0m \u001b[0mmeth\u001b[0m \u001b[0;34m==\u001b[0m \u001b[0;34m'powell'\u001b[0m\u001b[0;34m:\u001b[0m\u001b[0;34m\u001b[0m\u001b[0m\n\u001b[1;32m    415\u001b[0m         \u001b[0;32mreturn\u001b[0m \u001b[0m_minimize_powell\u001b[0m\u001b[0;34m(\u001b[0m\u001b[0mfun\u001b[0m\u001b[0;34m,\u001b[0m \u001b[0mx0\u001b[0m\u001b[0;34m,\u001b[0m \u001b[0margs\u001b[0m\u001b[0;34m,\u001b[0m \u001b[0mcallback\u001b[0m\u001b[0;34m,\u001b[0m \u001b[0;34m**\u001b[0m\u001b[0moptions\u001b[0m\u001b[0;34m)\u001b[0m\u001b[0;34m\u001b[0m\u001b[0m\n",
      "\u001b[0;32m/opt/local/Library/Frameworks/Python.framework/Versions/2.7/lib/python2.7/site-packages/scipy/optimize/optimize.pyc\u001b[0m in \u001b[0;36m_minimize_neldermead\u001b[0;34m(func, x0, args, callback, xtol, ftol, maxiter, maxfev, disp, return_all, **unknown_options)\u001b[0m\n\u001b[1;32m    436\u001b[0m     \u001b[0;32mif\u001b[0m \u001b[0mretall\u001b[0m\u001b[0;34m:\u001b[0m\u001b[0;34m\u001b[0m\u001b[0m\n\u001b[1;32m    437\u001b[0m         \u001b[0mallvecs\u001b[0m \u001b[0;34m=\u001b[0m \u001b[0;34m[\u001b[0m\u001b[0msim\u001b[0m\u001b[0;34m[\u001b[0m\u001b[0;36m0\u001b[0m\u001b[0;34m]\u001b[0m\u001b[0;34m]\u001b[0m\u001b[0;34m\u001b[0m\u001b[0m\n\u001b[0;32m--> 438\u001b[0;31m     \u001b[0mfsim\u001b[0m\u001b[0;34m[\u001b[0m\u001b[0;36m0\u001b[0m\u001b[0;34m]\u001b[0m \u001b[0;34m=\u001b[0m \u001b[0mfunc\u001b[0m\u001b[0;34m(\u001b[0m\u001b[0mx0\u001b[0m\u001b[0;34m)\u001b[0m\u001b[0;34m\u001b[0m\u001b[0m\n\u001b[0m\u001b[1;32m    439\u001b[0m     \u001b[0mnonzdelt\u001b[0m \u001b[0;34m=\u001b[0m \u001b[0;36m0.05\u001b[0m\u001b[0;34m\u001b[0m\u001b[0m\n\u001b[1;32m    440\u001b[0m     \u001b[0mzdelt\u001b[0m \u001b[0;34m=\u001b[0m \u001b[0;36m0.00025\u001b[0m\u001b[0;34m\u001b[0m\u001b[0m\n",
      "\u001b[0;32m/opt/local/Library/Frameworks/Python.framework/Versions/2.7/lib/python2.7/site-packages/scipy/optimize/optimize.pyc\u001b[0m in \u001b[0;36mfunction_wrapper\u001b[0;34m(*wrapper_args)\u001b[0m\n\u001b[1;32m    279\u001b[0m     \u001b[0;32mdef\u001b[0m \u001b[0mfunction_wrapper\u001b[0m\u001b[0;34m(\u001b[0m\u001b[0;34m*\u001b[0m\u001b[0mwrapper_args\u001b[0m\u001b[0;34m)\u001b[0m\u001b[0;34m:\u001b[0m\u001b[0;34m\u001b[0m\u001b[0m\n\u001b[1;32m    280\u001b[0m         \u001b[0mncalls\u001b[0m\u001b[0;34m[\u001b[0m\u001b[0;36m0\u001b[0m\u001b[0;34m]\u001b[0m \u001b[0;34m+=\u001b[0m \u001b[0;36m1\u001b[0m\u001b[0;34m\u001b[0m\u001b[0m\n\u001b[0;32m--> 281\u001b[0;31m         \u001b[0;32mreturn\u001b[0m \u001b[0mfunction\u001b[0m\u001b[0;34m(\u001b[0m\u001b[0;34m*\u001b[0m\u001b[0;34m(\u001b[0m\u001b[0mwrapper_args\u001b[0m \u001b[0;34m+\u001b[0m \u001b[0margs\u001b[0m\u001b[0;34m)\u001b[0m\u001b[0;34m)\u001b[0m\u001b[0;34m\u001b[0m\u001b[0m\n\u001b[0m\u001b[1;32m    282\u001b[0m \u001b[0;34m\u001b[0m\u001b[0m\n\u001b[1;32m    283\u001b[0m     \u001b[0;32mreturn\u001b[0m \u001b[0mncalls\u001b[0m\u001b[0;34m,\u001b[0m \u001b[0mfunction_wrapper\u001b[0m\u001b[0;34m\u001b[0m\u001b[0m\n",
      "\u001b[0;32m<ipython-input-295-058474012ba0>\u001b[0m in \u001b[0;36m<lambda>\u001b[0;34m(*args)\u001b[0m\n\u001b[1;32m     22\u001b[0m     \u001b[0;32mreturn\u001b[0m \u001b[0mlnlike\u001b[0m\u001b[0;34m\u001b[0m\u001b[0m\n\u001b[1;32m     23\u001b[0m \u001b[0;34m\u001b[0m\u001b[0m\n\u001b[0;32m---> 24\u001b[0;31m \u001b[0mchi2\u001b[0m \u001b[0;34m=\u001b[0m \u001b[0;32mlambda\u001b[0m \u001b[0;34m*\u001b[0m\u001b[0margs\u001b[0m\u001b[0;34m:\u001b[0m \u001b[0;34m-\u001b[0m\u001b[0;36m2\u001b[0m \u001b[0;34m*\u001b[0m \u001b[0mlnlike\u001b[0m\u001b[0;34m(\u001b[0m\u001b[0;34m*\u001b[0m\u001b[0margs\u001b[0m\u001b[0;34m)\u001b[0m\u001b[0;34m\u001b[0m\u001b[0m\n\u001b[0m\u001b[1;32m     25\u001b[0m \u001b[0mresult\u001b[0m \u001b[0;34m=\u001b[0m \u001b[0mop\u001b[0m\u001b[0;34m.\u001b[0m\u001b[0mminimize\u001b[0m\u001b[0;34m(\u001b[0m\u001b[0mchi2\u001b[0m\u001b[0;34m,\u001b[0m \u001b[0;34m[\u001b[0m\u001b[0mmdm_start\u001b[0m\u001b[0;34m,\u001b[0m\u001b[0msigmav_start\u001b[0m\u001b[0;34m]\u001b[0m\u001b[0;34m,\u001b[0m \u001b[0margs\u001b[0m\u001b[0;34m=\u001b[0m\u001b[0;34m(\u001b[0m\u001b[0mx\u001b[0m\u001b[0;34m,\u001b[0m \u001b[0my\u001b[0m\u001b[0;34m,\u001b[0m \u001b[0myerr\u001b[0m\u001b[0;34m,\u001b[0m\u001b[0;34m'col14'\u001b[0m\u001b[0;34m)\u001b[0m\u001b[0;34m,\u001b[0m\u001b[0mmethod\u001b[0m\u001b[0;34m=\u001b[0m\u001b[0;34m'Nelder-Mead'\u001b[0m\u001b[0;34m)\u001b[0m\u001b[0;34m\u001b[0m\u001b[0m\n\u001b[1;32m     26\u001b[0m \u001b[0mresult\u001b[0m\u001b[0;34m[\u001b[0m\u001b[0;34m'x'\u001b[0m\u001b[0;34m]\u001b[0m\u001b[0;34m\u001b[0m\u001b[0m\n",
      "\u001b[0;32m<ipython-input-295-058474012ba0>\u001b[0m in \u001b[0;36mlnlike\u001b[0;34m(theta, x, y, yerr, state)\u001b[0m\n\u001b[1;32m     17\u001b[0m \u001b[0;32mdef\u001b[0m \u001b[0mlnlike\u001b[0m\u001b[0;34m(\u001b[0m\u001b[0mtheta\u001b[0m\u001b[0;34m,\u001b[0m\u001b[0mx\u001b[0m\u001b[0;34m,\u001b[0m\u001b[0my\u001b[0m\u001b[0;34m,\u001b[0m\u001b[0myerr\u001b[0m\u001b[0;34m,\u001b[0m\u001b[0mstate\u001b[0m\u001b[0;34m)\u001b[0m\u001b[0;34m:\u001b[0m\u001b[0;34m\u001b[0m\u001b[0m\n\u001b[1;32m     18\u001b[0m     \u001b[0mmdm_\u001b[0m\u001b[0;34m,\u001b[0m \u001b[0msigv_\u001b[0m \u001b[0;34m=\u001b[0m \u001b[0mtheta\u001b[0m\u001b[0;34m\u001b[0m\u001b[0m\n\u001b[0;32m---> 19\u001b[0;31m     \u001b[0mmodel\u001b[0m\u001b[0;34m=\u001b[0m \u001b[0mEn_pyth\u001b[0m\u001b[0;34m(\u001b[0m\u001b[0mx\u001b[0m\u001b[0;34m,\u001b[0m\u001b[0;34m[\u001b[0m\u001b[0mmdm_\u001b[0m\u001b[0;34m,\u001b[0m\u001b[0msigv_\u001b[0m\u001b[0;34m,\u001b[0m\u001b[0mJfac\u001b[0m\u001b[0;34m,\u001b[0m\u001b[0mstate\u001b[0m\u001b[0;34m]\u001b[0m\u001b[0;34m)\u001b[0m\u001b[0;34m\u001b[0m\u001b[0m\n\u001b[0m\u001b[1;32m     20\u001b[0m     \u001b[0minv_sigma2\u001b[0m \u001b[0;34m=\u001b[0m \u001b[0;36m1.0\u001b[0m\u001b[0;34m/\u001b[0m\u001b[0mnp\u001b[0m\u001b[0;34m.\u001b[0m\u001b[0mpower\u001b[0m\u001b[0;34m(\u001b[0m\u001b[0myerr\u001b[0m\u001b[0;34m,\u001b[0m\u001b[0;36m2.\u001b[0m\u001b[0;34m)\u001b[0m\u001b[0;34m\u001b[0m\u001b[0m\n\u001b[1;32m     21\u001b[0m     \u001b[0mlnlike\u001b[0m\u001b[0;34m=\u001b[0m\u001b[0;34m-\u001b[0m\u001b[0;36m0.5\u001b[0m\u001b[0;34m*\u001b[0m\u001b[0;34m(\u001b[0m\u001b[0mnp\u001b[0m\u001b[0;34m.\u001b[0m\u001b[0msum\u001b[0m\u001b[0;34m(\u001b[0m\u001b[0;34m(\u001b[0m\u001b[0mnp\u001b[0m\u001b[0;34m.\u001b[0m\u001b[0mpower\u001b[0m\u001b[0;34m(\u001b[0m\u001b[0my\u001b[0m\u001b[0;34m-\u001b[0m\u001b[0mmodel\u001b[0m\u001b[0;34m,\u001b[0m\u001b[0;36m2.\u001b[0m\u001b[0;34m)\u001b[0m\u001b[0;34m*\u001b[0m\u001b[0minv_sigma2\u001b[0m\u001b[0;34m)\u001b[0m \u001b[0;34m-\u001b[0m \u001b[0mnp\u001b[0m\u001b[0;34m.\u001b[0m\u001b[0mlog\u001b[0m\u001b[0;34m(\u001b[0m\u001b[0minv_sigma2\u001b[0m\u001b[0;34m)\u001b[0m\u001b[0;34m)\u001b[0m\u001b[0;34m)\u001b[0m\u001b[0;34m\u001b[0m\u001b[0m\n",
      "\u001b[0;32m<ipython-input-290-b0f49483ec70>\u001b[0m in \u001b[0;36mEn_pyth\u001b[0;34m(x, arg)\u001b[0m\n\u001b[1;32m     26\u001b[0m \u001b[0;32mdef\u001b[0m \u001b[0mEn_pyth\u001b[0m\u001b[0;34m(\u001b[0m\u001b[0mx\u001b[0m\u001b[0;34m,\u001b[0m\u001b[0marg\u001b[0m\u001b[0;34m)\u001b[0m\u001b[0;34m:\u001b[0m\u001b[0;34m\u001b[0m\u001b[0m\n\u001b[1;32m     27\u001b[0m     \u001b[0mmdm\u001b[0m\u001b[0;34m,\u001b[0m\u001b[0msigv\u001b[0m\u001b[0;34m,\u001b[0m\u001b[0mjfac\u001b[0m\u001b[0;34m,\u001b[0m\u001b[0mstate\u001b[0m\u001b[0;34m=\u001b[0m\u001b[0marg\u001b[0m\u001b[0;34m\u001b[0m\u001b[0m\n\u001b[0;32m---> 28\u001b[0;31m     \u001b[0my\u001b[0m\u001b[0;34m=\u001b[0m\u001b[0minterp\u001b[0m\u001b[0;34m(\u001b[0m\u001b[0mmdm\u001b[0m\u001b[0;34m,\u001b[0m\u001b[0mstate\u001b[0m\u001b[0;34m)\u001b[0m\u001b[0;34m\u001b[0m\u001b[0m\n\u001b[0m\u001b[1;32m     29\u001b[0m     \u001b[0myret\u001b[0m\u001b[0;34m=\u001b[0m\u001b[0my\u001b[0m\u001b[0;34m(\u001b[0m\u001b[0mx\u001b[0m\u001b[0;34m)\u001b[0m\u001b[0;34m\u001b[0m\u001b[0m\n\u001b[1;32m     30\u001b[0m     \u001b[0;32mreturn\u001b[0m \u001b[0mx\u001b[0m\u001b[0;34m*\u001b[0m\u001b[0myret\u001b[0m\u001b[0;34m*\u001b[0m\u001b[0;34m(\u001b[0m\u001b[0msigv\u001b[0m\u001b[0;34m/\u001b[0m\u001b[0mmdm\u001b[0m\u001b[0;34m**\u001b[0m\u001b[0;36m2.\u001b[0m\u001b[0;34m)\u001b[0m\u001b[0;34m*\u001b[0m\u001b[0mjfac\u001b[0m\u001b[0;34m\u001b[0m\u001b[0m\n",
      "\u001b[0;32m<ipython-input-289-d0cc8a06f279>\u001b[0m in \u001b[0;36minterp\u001b[0;34m(mass, col_secpart)\u001b[0m\n\u001b[1;32m     21\u001b[0m     \u001b[0;32melse\u001b[0m\u001b[0;34m:\u001b[0m\u001b[0;34m\u001b[0m\u001b[0m\n\u001b[1;32m     22\u001b[0m         \u001b[0mindex\u001b[0m\u001b[0;34m=\u001b[0m\u001b[0mnp\u001b[0m\u001b[0;34m.\u001b[0m\u001b[0msearchsorted\u001b[0m\u001b[0;34m(\u001b[0m\u001b[0mmasslist\u001b[0m\u001b[0;34m,\u001b[0m\u001b[0mmass\u001b[0m\u001b[0;34m)\u001b[0m\u001b[0;34m\u001b[0m\u001b[0m\n\u001b[0;32m---> 23\u001b[0;31m         \u001b[0mmass1\u001b[0m\u001b[0;34m=\u001b[0m\u001b[0mmasslist\u001b[0m\u001b[0;34m[\u001b[0m\u001b[0mindex\u001b[0m\u001b[0;34m]\u001b[0m\u001b[0;34m\u001b[0m\u001b[0m\n\u001b[0m\u001b[1;32m     24\u001b[0m         \u001b[0mmass2\u001b[0m\u001b[0;34m=\u001b[0m\u001b[0mmasslist\u001b[0m\u001b[0;34m[\u001b[0m\u001b[0mindex\u001b[0m\u001b[0;34m+\u001b[0m\u001b[0;36m1\u001b[0m\u001b[0;34m]\u001b[0m\u001b[0;34m\u001b[0m\u001b[0m\n\u001b[1;32m     25\u001b[0m         \u001b[0;32mprint\u001b[0m \u001b[0mmass1\u001b[0m\u001b[0;34m,\u001b[0m\u001b[0mmass\u001b[0m\u001b[0;34m,\u001b[0m\u001b[0mmass2\u001b[0m\u001b[0;34m\u001b[0m\u001b[0m\n",
      "\u001b[0;31mIndexError\u001b[0m: list index out of range"
     ]
    }
   ],
   "source": [
    "##bnds=((100,50000),(1e-25,1e-40))    #Only needed for some minimization methods that requires boundaries \n",
    "#Jfac=1.12e24\n",
    "\n",
    "#def lnlike(theta,x,y,yerr):\n",
    "#    mdm_, sigv_ = theta\n",
    "#    model= Ebb(x,[mdm_,sigv_,Jfac])\n",
    "#    inv_sigma2 = 1.0/np.power(yerr,2.)\n",
    "#    lnlike=-0.5*(np.sum((np.power(y-model,2.)*inv_sigma2) - np.log(inv_sigma2)))\n",
    "#    return lnlike\n",
    "\n",
    "#chi2 = lambda *args: -2 * lnlike(*args)\n",
    "#result = op.minimize(chi2, [mdm_start,sigmav_start], \n",
    " #                    args=(x, y, yerr),method='Nelder-Mead')\n",
    "#result['x']\n",
    "Jfac=1.12e24\n",
    "\n",
    "def lnlike(theta,x,y,yerr,state):\n",
    "    mdm_, sigv_ = theta\n",
    "    model= En_pyth(x,[mdm_,sigv_,Jfac,state])\n",
    "    inv_sigma2 = 1.0/np.power(yerr,2.)\n",
    "    lnlike=-0.5*(np.sum((np.power(y-model,2.)*inv_sigma2) - np.log(inv_sigma2)))\n",
    "    return lnlike\n",
    "\n",
    "chi2 = lambda *args: -2 * lnlike(*args)\n",
    "result = op.minimize(chi2, [mdm_start,sigmav_start], args=(x, y, yerr,'col14'),method='Nelder-Mead')\n",
    "result['x']"
   ]
  },
  {
   "cell_type": "code",
   "execution_count": 293,
   "metadata": {},
   "outputs": [
    {
     "ename": "NameError",
     "evalue": "name 'result' is not defined",
     "output_type": "error",
     "traceback": [
      "\u001b[0;31m---------------------------------------------------------------------------\u001b[0m\n\u001b[0;31mNameError\u001b[0m                                 Traceback (most recent call last)",
      "\u001b[0;32m<ipython-input-293-670c80120501>\u001b[0m in \u001b[0;36m<module>\u001b[0;34m()\u001b[0m\n\u001b[0;32m----> 1\u001b[0;31m \u001b[0mmdm_bf\u001b[0m\u001b[0;34m,\u001b[0m \u001b[0msigv_bf\u001b[0m \u001b[0;34m=\u001b[0m \u001b[0mresult\u001b[0m\u001b[0;34m[\u001b[0m\u001b[0;34m\"x\"\u001b[0m\u001b[0;34m]\u001b[0m\u001b[0;34m\u001b[0m\u001b[0m\n\u001b[0m\u001b[1;32m      2\u001b[0m \u001b[0mfig2\u001b[0m\u001b[0;34m=\u001b[0m\u001b[0mpl\u001b[0m\u001b[0;34m.\u001b[0m\u001b[0mfigure\u001b[0m\u001b[0;34m(\u001b[0m\u001b[0;34m)\u001b[0m\u001b[0;34m\u001b[0m\u001b[0m\n\u001b[1;32m      3\u001b[0m \u001b[0max1\u001b[0m \u001b[0;34m=\u001b[0m \u001b[0mfig2\u001b[0m\u001b[0;34m.\u001b[0m\u001b[0madd_subplot\u001b[0m\u001b[0;34m(\u001b[0m\u001b[0;36m111\u001b[0m\u001b[0;34m)\u001b[0m\u001b[0;34m\u001b[0m\u001b[0m\n\u001b[1;32m      4\u001b[0m \u001b[0max1\u001b[0m\u001b[0;34m.\u001b[0m\u001b[0merrorbar\u001b[0m\u001b[0;34m(\u001b[0m\u001b[0mx\u001b[0m\u001b[0;34m,\u001b[0m\u001b[0my\u001b[0m\u001b[0;34m,\u001b[0m\u001b[0mxerr\u001b[0m\u001b[0;34m=\u001b[0m\u001b[0;34m[\u001b[0m\u001b[0mdx_low\u001b[0m\u001b[0;34m,\u001b[0m\u001b[0mdx_up\u001b[0m\u001b[0;34m]\u001b[0m\u001b[0;34m,\u001b[0m\u001b[0myerr\u001b[0m\u001b[0;34m=\u001b[0m\u001b[0;34m[\u001b[0m\u001b[0mdy_low\u001b[0m\u001b[0;34m,\u001b[0m\u001b[0mdy_up\u001b[0m\u001b[0;34m]\u001b[0m\u001b[0;34m,\u001b[0m\u001b[0mfmt\u001b[0m\u001b[0;34m=\u001b[0m\u001b[0;34m'.r'\u001b[0m\u001b[0;34m)\u001b[0m\u001b[0;34m\u001b[0m\u001b[0m\n\u001b[1;32m      5\u001b[0m \u001b[0max1\u001b[0m\u001b[0;34m.\u001b[0m\u001b[0mset_xscale\u001b[0m\u001b[0;34m(\u001b[0m\u001b[0;34m'log'\u001b[0m\u001b[0;34m)\u001b[0m\u001b[0;34m\u001b[0m\u001b[0m\n",
      "\u001b[0;31mNameError\u001b[0m: name 'result' is not defined"
     ]
    }
   ],
   "source": [
    "mdm_bf, sigv_bf = result[\"x\"]\n",
    "fig2=pl.figure()\n",
    "ax1 = fig2.add_subplot(111)\n",
    "ax1.errorbar(x,y,xerr=[dx_low,dx_up],yerr=[dy_low,dy_up],fmt='.r')\n",
    "ax1.set_xscale('log')\n",
    "ax1.set_yscale('log')\n",
    "ax1.set_ylim([1e-13,5e-11])\n",
    "ax1.set_xlim([100,20000])\n",
    "ax1.set_xlabel('E [MeV]')\n",
    "ax1.set_ylabel(r'$E^2 \\frac{dN}{dE}$')\n",
    "ax2= fig2.add_subplot(111)\n",
    "ax2.plot(En,Ebb(En,[mdm_bf,sigv_bf,Jfac]),'b',label='DM best fit')\n",
    "ax2.legend(loc='upper right',frameon=False)\n",
    "ax2.annotate(r'$m_{dm}=23.3 \\,{\\rm GeV}$',xy=(0.75,0.82),xycoords='axes fraction')\n",
    "ax2.annotate(r'$\\quad <\\sigma v>=4.8\\times 10^{-31}$',xy=(0.675,0.75),xycoords='axes fraction')\n",
    "print(ChiSq(Ebb,[mdm_bf,sigv_bf,Jfac],x,y,yerr))"
   ]
  },
  {
   "cell_type": "markdown",
   "metadata": {},
   "source": [
    "For this fit we find:\n",
    "\n",
    "$m_{\\rm dm}=23.34 {\\rm GeV}$\n",
    "\n",
    "$<\\sigma v>=4.3\\times 10^{31}$\n",
    "\n",
    "Another option for the model would be to combine both spectrums in which case, we would be only looking to improve the fit from the pulsar hypothesis. "
   ]
  },
  {
   "cell_type": "code",
   "execution_count": 10,
   "metadata": {},
   "outputs": [
    {
     "name": "stdout",
     "output_type": "stream",
     "text": [
      "(3.725230253831542e-13, 24330.677287405102, 1.1714505683214882e-30, 8.663877007784858e+22)\n",
      "0.182391179376\n"
     ]
    }
   ],
   "source": [
    "def lnlike2(theta,x,y,yerr):\n",
    "    N0_,mdm_, sigv_,Jfac_ = theta\n",
    "    model= E2dNdEpulsar(x,N0_)+Ebb(x,[mdm_,sigv_,Jfac_])\n",
    "    inv_sigma2 = 1.0/np.power(yerr,2.)\n",
    "    lnlike=-0.5*(np.sum((np.power(y-model,2.)*inv_sigma2) - np.log(inv_sigma2)))\n",
    "    return lnlike\n",
    "\n",
    "chi2 = lambda *args: -2 * lnlike2(*args)\n",
    "result2 = op.minimize(chi2, [N0_start,mdm_start,sigmav_start,Jfac], \n",
    "                     args=(x, y, yerr),method='Nelder-Mead')\n",
    "\n",
    "def composite(x,theta):\n",
    "     N0_,mdm_, sigv_,Jfac = theta\n",
    "     model= E2dNdEpulsar(x,N0_)+Ebb(x,[mdm_,sigv_,Jfac])\n",
    "     return model\n",
    "print(result2['x'][0],result2['x'][1],result2['x'][2],result2['x'][3])\n",
    "print(ChiSq(composite,[result2['x'][0],result2['x'][1],result2['x'][2],result2['x'][3]],x,y,yerr))"
   ]
  },
  {
   "cell_type": "code",
   "execution_count": 11,
   "metadata": {},
   "outputs": [
    {
     "data": {
      "text/plain": [
       "<matplotlib.text.Text at 0x10db48d10>"
      ]
     },
     "execution_count": 11,
     "metadata": {},
     "output_type": "execute_result"
    },
    {
     "data": {
      "image/png": "[encoded data removed]",
      "text/plain": [
       "<matplotlib.figure.Figure at 0x10d6397d0>"
      ]
     },
     "metadata": {},
     "output_type": "display_data"
    }
   ],
   "source": [
    "N0_bf2,mdm_bf2, sigv_bf2,Jfac_bf2 = result2[\"x\"]\n",
    "fig3=pl.figure()\n",
    "ax3= fig3.add_subplot(111)\n",
    "ax3.plot(En,composite(En,[N0_bf2,mdm_bf2, sigv_bf2,Jfac_bf2]),'green',label='Pulsars-DM best fit')\n",
    "ax3.annotate(r'$m_{dm}=17.24 \\,{\\rm GeV}$',xy=(0.65,0.82),xycoords='axes fraction')\n",
    "ax3.annotate(r'$\\quad <\\sigma v>=2.83\\times 10^{-30}$',xy=(0.575,0.75),xycoords='axes fraction')\n",
    "#ax3.plot(En,Ebb(En,[mdm_bf2, sigv_bf2,Jfac_bf2]),'--b')\n",
    "#ax3.plot(En,E2dNdEpulsar(En,N0_bf2),'--k')\n",
    "ax3= fig3.add_subplot(111)\n",
    "ax3.errorbar(x,y,xerr=[dx_low,dx_up],yerr=[dy_low,dy_up],fmt='.r')\n",
    "ax3.legend(loc='upper right',frameon=False)\n",
    "ax3.set_xscale('log')\n",
    "ax3.set_yscale('log')\n",
    "ax3.set_ylim([1e-13,5e-11])\n",
    "ax3.set_xlim([100,20000])\n",
    "ax3.set_xlabel('E [MeV]')\n",
    "ax3.set_ylabel(r'$E^2 \\frac{dN}{dE}$')"
   ]
  },
  {
   "cell_type": "markdown",
   "metadata": {},
   "source": [
    "To add a non-negligible contribution of the Dark Matter to the spectra I should leave the normalization of the pulsar espectra as\n",
    "a free parameter  as well as the Jfactor. Then I have 4 free parameters to adjust 5 points... The simple minimization of the chisq gives the following parameters, but so few points I'm not sure I can conclude much:\n",
    "\n",
    "$N0=3.73 \\times 10^{-13}$\n",
    "\n",
    "$m_{\\rm dm}=17240.95 {\\rm[ MeV]}$\n",
    "\n",
    "$<\\sigma v >=2.97\\times10^{-30}$\n",
    "\n",
    "$J_{\\rm fac}=2.23 \\times10^{22}$\n",
    "\n",
    "A simple comparison of the chisquare shows that the model of pulsars plus dm is sligthly better. To say so more formally I have to do a more extensive analysis:\n",
    "\n",
    "$\\chi^2_{\\rm pulsar}=0.2$\n",
    "\n",
    "$\\chi^2_{\\rm dm}=3.43$\n",
    "\n",
    "$\\chi^2_{\\rm pulsar+dm}=0.18$"
   ]
  },
  {
   "cell_type": "markdown",
   "metadata": {},
   "source": [
    "Here I do the analysis for the combined spectra but fixing J. "
   ]
  },
  {
   "cell_type": "code",
   "execution_count": 27,
   "metadata": {},
   "outputs": [
    {
     "name": "stdout",
     "output_type": "stream",
     "text": [
      "(4.1148766429796522e-13, 2393.0526452090444, 4.947138493434438e-27)\n",
      "0.162574501987\n"
     ]
    }
   ],
   "source": [
    "jfac=1.34e19\n",
    "def lnlike2(theta,jfac,x,y,yerr):\n",
    "    N0_,mdm_, sigv_ = theta\n",
    "    model= E2dNdEpulsar(x,N0_)+Ebb(x,[mdm_,sigv_,jfac])\n",
    "    inv_sigma2 = 1.0/np.power(yerr,2.)\n",
    "    lnlike=-0.5*(np.sum((np.power(y-model,2.)*inv_sigma2) - np.log(inv_sigma2)))\n",
    "    return lnlike\n",
    "\n",
    "chi2 = lambda *args: -2 * lnlike2(*args)\n",
    "result2 = op.minimize(chi2, [N0_start,mdm_start,sigmav_start], \n",
    "                     args=(jfac,x, y, yerr),method='Nelder-Mead')\n",
    "\n",
    "def composite(x,theta):\n",
    "     N0_,mdm_, sigv_,jfac_ = theta\n",
    "     model= E2dNdEpulsar(x,N0_)+Ebb(x,[mdm_,sigv_,jfac_])\n",
    "     return model\n",
    "print(result2['x'][0],result2['x'][1],result2['x'][2])\n",
    "print(ChiSq(composite,[result2['x'][0],result2['x'][1],result2['x'][2],jfac],x,y,yerr))"
   ]
  },
  {
   "cell_type": "markdown",
   "metadata": {},
   "source": [
    "The results are : \n",
    "    \n",
    "$N_0=3.72\\times 10^{-13}$\n",
    "\n",
    "$m_{\\rm dm}=17.24 \\rm{GeV}$\n",
    "\n",
    "$<\\sigma v >=4.96\\times10^{-32}$\n",
    "\n",
    "$\\chi^2_{pulsar+dm}=0.18$"
   ]
  },
  {
   "cell_type": "code",
   "execution_count": 28,
   "metadata": {},
   "outputs": [
    {
     "data": {
      "text/plain": [
       "<matplotlib.text.Text at 0x10e0f2ed0>"
      ]
     },
     "execution_count": 28,
     "metadata": {},
     "output_type": "execute_result"
    },
    {
     "data": {
      "image/png": "[encoded data removed]",
      "text/plain": [
       "<matplotlib.figure.Figure at 0x10e041350>"
      ]
     },
     "metadata": {},
     "output_type": "display_data"
    }
   ],
   "source": [
    "N0_bf4,mdm_bf4, sigv_bf4 = result2[\"x\"]\n",
    "fig4=pl.figure()\n",
    "ax4= fig4.add_subplot(111)\n",
    "ax4.plot(En,composite(En,[N0_bf4,mdm_bf4, sigv_bf4,jfac]),'green',label='Pulsars-DM best fit')\n",
    "ax4.plot(En,)\n",
    "ax4.annotate(r'$m_{dm}=17.24 \\,{\\rm GeV}$',xy=(0.65,0.82),xycoords='axes fraction')\n",
    "ax4.annotate(r'$\\quad <\\sigma v>=2.83\\times 10^{-30}$',xy=(0.575,0.75),xycoords='axes fraction')\n",
    "#ax3.plot(En,Ebb(En,[mdm_bf2, sigv_bf2,Jfac_bf2]),'--b')\n",
    "#ax3.plot(En,E2dNdEpulsar(En,N0_bf2),'--k')\n",
    "ax4= fig4.add_subplot(111)\n",
    "ax4.errorbar(x,y,xerr=[dx_low,dx_up],yerr=[dy_low,dy_up],fmt='.r')\n",
    "ax4.legend(loc='upper right',frameon=False)\n",
    "ax4.set_xscale('log')\n",
    "ax4.set_yscale('log')\n",
    "ax4.set_ylim([1e-13,5e-11])\n",
    "ax4.set_xlim([100,20000])\n",
    "ax4.set_xlabel('E [MeV]')\n",
    "ax4.set_ylabel(r'$E^2 \\frac{dN}{dE}$')"
   ]
  },
  {
   "cell_type": "code",
   "execution_count": 10,
   "metadata": {},
   "outputs": [],
   "source": []
  }
 ],
 "metadata": {
  "kernelspec": {
   "display_name": "Python 2",
   "language": "python",
   "name": "python2"
  },
  "language_info": {
   "codemirror_mode": {
    "name": "ipython",
    "version": 2
   },
   "file_extension": ".py",
   "mimetype": "text/x-python",
   "name": "python",
   "nbconvert_exporter": "python",
   "pygments_lexer": "ipython2",
   "version": "2.7.10"
  }
 },
 "nbformat": 4,
 "nbformat_minor": 1
}
